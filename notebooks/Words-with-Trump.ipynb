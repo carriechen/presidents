{
 "cells": [
  {
   "cell_type": "code",
   "execution_count": 129,
   "metadata": {
    "collapsed": false
   },
   "outputs": [],
   "source": [
    "import re\n",
    "import itertools\n",
    "from collections import Counter\n",
    "import dateutil.parser\n",
    "import pandas as pd\n",
    "import numpy as np\n",
    "%matplotlib inline\n",
    "import matplotlib.pyplot as plt\n",
    "import matplotlib.colors as mcolors\n",
    "import matplotlib.dates as mdates\n",
    "import matplotlib.ticker as ticker\n",
    "import matplotlib.gridspec as mgridspec\n",
    "plt.style.use('newsprint.mplstyle')"
   ]
  },
  {
   "cell_type": "code",
   "execution_count": 130,
   "metadata": {
    "collapsed": false
   },
   "outputs": [],
   "source": [
    "# local modules\n",
    "import sys\n",
    "sys.path.append('../analysis')\n",
    "from readers import read_ldjson\n",
    "from text import standard_stopwords, tokenize, nlp, parse\n",
    "from speeches import Speech"
   ]
  },
  {
   "cell_type": "code",
   "execution_count": 131,
   "metadata": {
    "collapsed": true
   },
   "outputs": [],
   "source": [
    "# mending plots\n",
    "from adjustText import adjust_text"
   ]
  },
  {
   "cell_type": "code",
   "execution_count": 132,
   "metadata": {
    "collapsed": true
   },
   "outputs": [],
   "source": [
    "# from wordcloud import WordCloud"
   ]
  },
  {
   "cell_type": "markdown",
   "metadata": {},
   "source": [
    "## Load speech groups"
   ]
  },
  {
   "cell_type": "code",
   "execution_count": 133,
   "metadata": {
    "collapsed": true
   },
   "outputs": [],
   "source": [
    "all_datapaths = [\n",
    "    'tapp/inaugurals.json', \n",
    "    'millercenter/speeches.json',\n",
    "    'tapp/election2016.json', \n",
    "    'tapp/election2012.json',\n",
    "    'tapp/election2008.json',\n",
    "    'tapp/transition2017.json',\n",
    "    'trump.json',\n",
    "    'michael-anton.json',\n",
    "]"
   ]
  },
  {
   "cell_type": "code",
   "execution_count": 134,
   "metadata": {
    "collapsed": false
   },
   "outputs": [],
   "source": [
    "def iter_speeches(datapaths):\n",
    "    for datapath in datapaths:\n",
    "        for speech_dict in read_ldjson('../data/' + datapath):\n",
    "            speech = Speech(**speech_dict)\n",
    "            speech.datapath = datapath\n",
    "            # a lot of 2012 speeches are just a YouTube video; exclude those\n",
    "            if len(speech.text) > 0:\n",
    "                yield speech\n",
    "all_speeches = list(iter_speeches(all_datapaths))"
   ]
  },
  {
   "cell_type": "code",
   "execution_count": 135,
   "metadata": {
    "collapsed": false
   },
   "outputs": [],
   "source": [
    "war_date = dateutil.parser.parse('1948-11-01')\n",
    "is_prewar = lambda speech: speech.timestamp < war_date\n",
    "is_postwar = lambda speech: speech.timestamp > war_date\n",
    "is_trump = lambda speech: speech.author == 'Donald J. Trump'\n",
    "isnt_trump = lambda speech: speech.author != 'Donald J. Trump'\n",
    "is_obama = lambda speech: speech.author == 'Barack Obama'\n",
    "is_tapp_inaugural = lambda speech: speech.datapath == 'tapp/inaugurals.json'\n",
    "is_millercenter = lambda speech: speech.datapath == 'millercenter/speeches.json'\n",
    "def is_campaign_speech(year):\n",
    "    datapath = 'tapp/election{}.json'.format(year)\n",
    "    return lambda speech: (speech.metadata.get('category') == 'campaign speeches' and \n",
    "                           speech.datapath == datapath)\n",
    "is_transition2017 = lambda speech: speech.datapath == 'millercenter/speeches.json'\n",
    "is_inoffice = lambda speech: not speech.datapath.startswith('tapp/election')"
   ]
  },
  {
   "cell_type": "code",
   "execution_count": 136,
   "metadata": {
    "collapsed": false
   },
   "outputs": [],
   "source": [
    "groupspecs = [\n",
    "    ('inaugurals',                  'All inaugural addresses',\n",
    "      is_tapp_inaugural),\n",
    "    ('inaugurals_prewar',           'Pre-war inaugural addresses',\n",
    "      is_tapp_inaugural, is_prewar),\n",
    "    ('inaugurals_postwar_pretrump', 'Post-war, pre-Trump inaugural addresses',\n",
    "      is_tapp_inaugural, is_postwar, isnt_trump),\n",
    "    ('inaugurals_pretrump',         'All prior inaugural addresses',\n",
    "      is_tapp_inaugural, isnt_trump),\n",
    "    ('inaugurals_trump',            'Trump inaugural address',\n",
    "      is_tapp_inaugural, is_trump),\n",
    "    ('millercenter',                'All Miller Center speeches',\n",
    "      is_millercenter),\n",
    "    ('election2008_speeches',       'All 2008 campaign speeches',\n",
    "      is_campaign_speech(2008)),\n",
    "    ('election2012_speeches',       'All 2012 campaign speeches',\n",
    "      is_campaign_speech(2012)),\n",
    "    ('election2016_speeches',       'All 2016 campaign speeches',\n",
    "      is_campaign_speech(2016)),\n",
    "    ('election2016_speeches_trump', 'Trump campaign speeches',\n",
    "      is_campaign_speech(2016), is_trump),\n",
    "    ('transition2017_trump',        'Transition 2017: Trump',\n",
    "      is_transition2017, is_trump),\n",
    "    ('transition2017_obama',        'Transition 2017: Obama',\n",
    "      is_transition2017, isnt_trump),\n",
    "    ('president_trump',             'President Trump, in office',\n",
    "      is_inoffice, is_trump),\n",
    "]"
   ]
  },
  {
   "cell_type": "code",
   "execution_count": 137,
   "metadata": {
    "collapsed": false
   },
   "outputs": [],
   "source": [
    "class Group(object):\n",
    "    def __init__(self, name, fullname, *predicates):\n",
    "        self.name = name\n",
    "        self.fullname = fullname\n",
    "        self.speeches = [speech for speech in all_speeches \n",
    "                         if all(predicate(speech) for predicate in predicates)]\n",
    "    \n",
    "    def __len__(self):\n",
    "        return len(self.speeches)\n",
    "    \n",
    "    def __repr__(self):\n",
    "        return '<Group {} \"{}\" ({} speeches)>'.format(self.name, self.fullname, len(self))\n",
    "\n",
    "    @property\n",
    "    def description(self):\n",
    "        return '{} ({})'.format(self.fullname, len(self))"
   ]
  },
  {
   "cell_type": "code",
   "execution_count": 104,
   "metadata": {
    "collapsed": true
   },
   "outputs": [],
   "source": [
    "groups = [Group(*groupspec) for groupspec in groupspecs]"
   ]
  },
  {
   "cell_type": "code",
   "execution_count": 105,
   "metadata": {
    "collapsed": true
   },
   "outputs": [],
   "source": [
    "groups_lookup = {group.name: group for group in groups}"
   ]
  },
  {
   "cell_type": "code",
   "execution_count": 106,
   "metadata": {
    "collapsed": false
   },
   "outputs": [
    {
     "data": {
      "text/html": [
       "<div>\n",
       "<table border=\"1\" class=\"dataframe\">\n",
       "  <thead>\n",
       "    <tr style=\"text-align: right;\">\n",
       "      <th></th>\n",
       "      <th>group_name</th>\n",
       "      <th>group_fullname</th>\n",
       "      <th>documents</th>\n",
       "    </tr>\n",
       "  </thead>\n",
       "  <tbody>\n",
       "    <tr>\n",
       "      <th>0</th>\n",
       "      <td>inaugurals</td>\n",
       "      <td>All inaugural addresses</td>\n",
       "      <td>58</td>\n",
       "    </tr>\n",
       "    <tr>\n",
       "      <th>1</th>\n",
       "      <td>inaugurals_prewar</td>\n",
       "      <td>Pre-war inaugural addresses</td>\n",
       "      <td>40</td>\n",
       "    </tr>\n",
       "    <tr>\n",
       "      <th>2</th>\n",
       "      <td>inaugurals_postwar_pretrump</td>\n",
       "      <td>Post-war, pre-Trump inaugural addresses</td>\n",
       "      <td>17</td>\n",
       "    </tr>\n",
       "    <tr>\n",
       "      <th>3</th>\n",
       "      <td>inaugurals_pretrump</td>\n",
       "      <td>All prior inaugural addresses</td>\n",
       "      <td>57</td>\n",
       "    </tr>\n",
       "    <tr>\n",
       "      <th>4</th>\n",
       "      <td>inaugurals_trump</td>\n",
       "      <td>Trump inaugural address</td>\n",
       "      <td>1</td>\n",
       "    </tr>\n",
       "    <tr>\n",
       "      <th>5</th>\n",
       "      <td>millercenter</td>\n",
       "      <td>All Miller Center speeches</td>\n",
       "      <td>962</td>\n",
       "    </tr>\n",
       "    <tr>\n",
       "      <th>6</th>\n",
       "      <td>election2008_speeches</td>\n",
       "      <td>All 2008 campaign speeches</td>\n",
       "      <td>686</td>\n",
       "    </tr>\n",
       "    <tr>\n",
       "      <th>7</th>\n",
       "      <td>election2012_speeches</td>\n",
       "      <td>All 2012 campaign speeches</td>\n",
       "      <td>281</td>\n",
       "    </tr>\n",
       "    <tr>\n",
       "      <th>8</th>\n",
       "      <td>election2016_speeches</td>\n",
       "      <td>All 2016 campaign speeches</td>\n",
       "      <td>383</td>\n",
       "    </tr>\n",
       "    <tr>\n",
       "      <th>9</th>\n",
       "      <td>election2016_speeches_trump</td>\n",
       "      <td>Trump campaign speeches</td>\n",
       "      <td>60</td>\n",
       "    </tr>\n",
       "    <tr>\n",
       "      <th>10</th>\n",
       "      <td>transition2017_trump</td>\n",
       "      <td>Transition 2017: Trump</td>\n",
       "      <td>0</td>\n",
       "    </tr>\n",
       "    <tr>\n",
       "      <th>11</th>\n",
       "      <td>transition2017_obama</td>\n",
       "      <td>Transition 2017: Obama</td>\n",
       "      <td>962</td>\n",
       "    </tr>\n",
       "    <tr>\n",
       "      <th>12</th>\n",
       "      <td>president_trump</td>\n",
       "      <td>President Trump, in office</td>\n",
       "      <td>149</td>\n",
       "    </tr>\n",
       "  </tbody>\n",
       "</table>\n",
       "</div>"
      ],
      "text/plain": [
       "                     group_name                           group_fullname  \\\n",
       "0                    inaugurals                  All inaugural addresses   \n",
       "1             inaugurals_prewar              Pre-war inaugural addresses   \n",
       "2   inaugurals_postwar_pretrump  Post-war, pre-Trump inaugural addresses   \n",
       "3           inaugurals_pretrump            All prior inaugural addresses   \n",
       "4              inaugurals_trump                  Trump inaugural address   \n",
       "5                  millercenter               All Miller Center speeches   \n",
       "6         election2008_speeches               All 2008 campaign speeches   \n",
       "7         election2012_speeches               All 2012 campaign speeches   \n",
       "8         election2016_speeches               All 2016 campaign speeches   \n",
       "9   election2016_speeches_trump                  Trump campaign speeches   \n",
       "10         transition2017_trump                   Transition 2017: Trump   \n",
       "11         transition2017_obama                   Transition 2017: Obama   \n",
       "12              president_trump               President Trump, in office   \n",
       "\n",
       "    documents  \n",
       "0          58  \n",
       "1          40  \n",
       "2          17  \n",
       "3          57  \n",
       "4           1  \n",
       "5         962  \n",
       "6         686  \n",
       "7         281  \n",
       "8         383  \n",
       "9          60  \n",
       "10          0  \n",
       "11        962  \n",
       "12        149  "
      ]
     },
     "execution_count": 106,
     "metadata": {},
     "output_type": "execute_result"
    }
   ],
   "source": [
    "def iter_groupinfos(groups):\n",
    "    for group in groups:\n",
    "        yield group.name, group.fullname, len(group)\n",
    "pd.DataFrame(iter_groupinfos(groups), columns=['group_name', 'group_fullname', 'documents'])"
   ]
  },
  {
   "cell_type": "markdown",
   "metadata": {},
   "source": [
    "# Proportion of speech allocated to specific word groups"
   ]
  },
  {
   "cell_type": "code",
   "execution_count": 107,
   "metadata": {
    "collapsed": false
   },
   "outputs": [],
   "source": [
    "def create_group_synset_df(groups, synsets):\n",
    "    '''\n",
    "    groups are a list of (group_name, Group instance) pairs\n",
    "    synsets is a list of (synset_name, synset_tokens) pairs\n",
    "    '''\n",
    "    def iter_group_synset_counts(groups, synsets):\n",
    "        for group_name, group in groups:\n",
    "            #collocation_mapping = dict(nlp.sentence_collocation_mapping(speech.document for speech in group.speeches))\n",
    "            for speech in group.speeches:\n",
    "                speech_counts = speech.lower_counts\n",
    "                total_count = len(speech_counts.values())\n",
    "                for synset_name, synset_tokens in synsets:\n",
    "                    #synset_tokens = nlp.bootstrap_strings(synset_tokens, collocation_mapping, 10)\n",
    "                    #synset_lemmas = {token.lemma for token in nlp.parse(' '.join(synset_tokens))}\n",
    "                    #synset_count = sum(speech.lemma_counts.get(lemma, 0) for lemma in synset_lemmas)\n",
    "                    synset_orths = {token.lower for token in parse(' '.join(synset_tokens))}\n",
    "                    synset_count = sum(speech_counts.get(orth, 0) for orth in synset_orths)\n",
    "                    yield dict(group=group_name, synset=synset_name,\n",
    "                               synset_count=synset_count, total_count=total_count)\n",
    "    df = pd.DataFrame(iter_group_synset_counts(groups, synsets))\n",
    "    # there's probably an easier way to do this in one go with df.pivot_table(...)\n",
    "    df_grouped = df.groupby(['synset', 'group']).aggregate({'synset_count': sum, 'total_count': sum})\n",
    "    df_grouped['synset_proportion'] = df_grouped.synset_count / df_grouped.total_count\n",
    "    return df_grouped.reset_index(1)\n",
    "\n",
    "def create_group_x_synset_df(groups, synsets):\n",
    "    df = create_group_synset_df(groups, synsets)\n",
    "    df_pivot = df.pivot(columns='group', values='synset_proportion')\n",
    "    # reorder columns and rows to match order in groups and synsets lists\n",
    "    return df_pivot[[name for name, _ in groups]].reindex([name for name, _ in synsets])"
   ]
  },
  {
   "cell_type": "code",
   "execution_count": 108,
   "metadata": {
    "collapsed": true
   },
   "outputs": [],
   "source": [
    "base_synsets = [\n",
    "    ('freedom(s)', ['freedom', 'freedoms']),\n",
    "    ('libert(y/ies)', ['liberty', 'liberties']),\n",
    "    ('rights', ['rights']), \n",
    "    ('public', ['public']), \n",
    "    #('right(s)', ['right', 'rights']),\n",
    "    ('justice', ['justice']),\n",
    "    ('peace(ful)', ['peace', 'peaceful']),\n",
    "    ('america(n(s))', ['america', 'american', 'americans']),\n",
    "    ('job(s)', ['job', 'jobs']),\n",
    "    ('constitution', ['constitution']),\n",
    "    ('russia/ussr', ['russia', 'ussr']),\n",
    "    ('china', ['china']),\n",
    "    #('principle(s/d)', ['principle', 'principles', 'principled']),\n",
    "    #('immigrate(ion)', ['immigrate', 'immigrates', 'immigrated', 'immigrating', 'immigration']),\n",
    "    #('great(er/est)', ['great', 'greater', 'greatest']),\n",
    "    #('trump', ['trump']),\n",
    "    #('donald', ['donald']),\n",
    "    ('freedom+liberty+rights+public', ['freedom', 'liberty', 'rights', 'public']),\n",
    "]\n",
    "base_synsets_lookup = dict(base_synsets)\n",
    "def combine_synsets(*keys):\n",
    "    return '+'.join(keys), [token for key in keys for token in base_synsets_lookup[key]]\n",
    "synsets = base_synsets + [\n",
    "    combine_synsets('freedom(s)', 'libert(y/ies)'),\n",
    "    combine_synsets('freedom(s)', 'libert(y/ies)', 'rights', 'public'),\n",
    "    ('china-et-al', [\"china\", \"mexico\", \"military\", \"hell\", \n",
    "                     \"iran\", \"tough\", \"disaster\" \"horrible\", \n",
    "                     \"worst\", \"strong\", \"isis\", \"immigration\", \"border\", \"borders\"]),\n",
    "    #combine_synsets(['trump', 'donald']),\n",
    "]\n",
    "synsets_lookup = dict(synsets)"
   ]
  },
  {
   "cell_type": "code",
   "execution_count": 109,
   "metadata": {
    "collapsed": false
   },
   "outputs": [],
   "source": [
    "focus_group_names = [\n",
    "    'millercenter', \n",
    "    'inaugurals_pretrump',\n",
    "    'election2008_speeches',\n",
    "    'election2012_speeches',\n",
    "    'election2016_speeches',\n",
    "    'election2016_speeches_trump',\n",
    "    'inaugurals_trump', \n",
    "#     'transition2017_trump',\n",
    "#     'transition2017_obama',\n",
    "#     'president_trump',\n",
    "]\n",
    "focus_groups = [(group_name, groups_lookup[group_name]) for group_name in focus_group_names]\n",
    "    \n",
    "#'america(n(s))', 'job(s)',\n",
    "focus_synset_names = [\n",
    "    'freedom(s)', \n",
    "#     'peace(ful)', \n",
    "#     'justice', \n",
    "    'libert(y/ies)', \n",
    "    'rights', \n",
    "    'public',\n",
    "#     'freedom(s)+libert(y/ies)+rights+public',\n",
    "#     'freedom+liberty+rights+public',\n",
    "]\n",
    "focus_synsets = [(synset_name, synsets_lookup[synset_name]) for synset_name in focus_synset_names]"
   ]
  },
  {
   "cell_type": "code",
   "execution_count": 127,
   "metadata": {
    "collapsed": false
   },
   "outputs": [],
   "source": [
    "# df = create_group_synset_df(focus_groups, focus_synsets)\n",
    "# df.reset_index().set_index(['synset', 'group']).synset_proportion\n",
    "# df_flat = df.reset_index()\n",
    "# df_pivot = df_flat.pivot_table('synset_proportion', 'synset', 'group')\n",
    "# df_pivot.reindex(focus_synset_names)[focus_group_names]"
   ]
  },
  {
   "cell_type": "code",
   "execution_count": 113,
   "metadata": {
    "collapsed": false
   },
   "outputs": [],
   "source": [
    "# (df[df.group == 'election2016_speeches_trump'].synset_proportion /\n",
    "#  df[df.group == 'inaugurals_pretrump'].synset_proportion).to_frame('trump/inaugurals')"
   ]
  },
  {
   "cell_type": "code",
   "execution_count": 122,
   "metadata": {
    "collapsed": false
   },
   "outputs": [
    {
     "data": {
      "text/html": [
       "<div>\n",
       "<table border=\"1\" class=\"dataframe\">\n",
       "  <thead>\n",
       "    <tr style=\"text-align: right;\">\n",
       "      <th>group</th>\n",
       "      <th>millercenter</th>\n",
       "      <th>inaugurals_pretrump</th>\n",
       "      <th>election2008_speeches</th>\n",
       "      <th>election2012_speeches</th>\n",
       "      <th>election2016_speeches</th>\n",
       "      <th>election2016_speeches_trump</th>\n",
       "      <th>inaugurals_trump</th>\n",
       "    </tr>\n",
       "    <tr>\n",
       "      <th>synset</th>\n",
       "      <th></th>\n",
       "      <th></th>\n",
       "      <th></th>\n",
       "      <th></th>\n",
       "      <th></th>\n",
       "      <th></th>\n",
       "      <th></th>\n",
       "    </tr>\n",
       "  </thead>\n",
       "  <tbody>\n",
       "    <tr>\n",
       "      <th>freedom(s)</th>\n",
       "      <td>0.002445</td>\n",
       "      <td>0.004309</td>\n",
       "      <td>0.001200</td>\n",
       "      <td>0.002541</td>\n",
       "      <td>0.001028</td>\n",
       "      <td>0.000434</td>\n",
       "      <td>0.001835</td>\n",
       "    </tr>\n",
       "    <tr>\n",
       "      <th>libert(y/ies)</th>\n",
       "      <td>0.001147</td>\n",
       "      <td>0.003045</td>\n",
       "      <td>0.000380</td>\n",
       "      <td>0.001440</td>\n",
       "      <td>0.000452</td>\n",
       "      <td>0.000269</td>\n",
       "      <td>0.000000</td>\n",
       "    </tr>\n",
       "    <tr>\n",
       "      <th>rights</th>\n",
       "      <td>0.002484</td>\n",
       "      <td>0.003113</td>\n",
       "      <td>0.001329</td>\n",
       "      <td>0.000938</td>\n",
       "      <td>0.001684</td>\n",
       "      <td>0.000496</td>\n",
       "      <td>0.000000</td>\n",
       "    </tr>\n",
       "    <tr>\n",
       "      <th>public</th>\n",
       "      <td>0.005433</td>\n",
       "      <td>0.005121</td>\n",
       "      <td>0.001570</td>\n",
       "      <td>0.000711</td>\n",
       "      <td>0.001779</td>\n",
       "      <td>0.001944</td>\n",
       "      <td>0.001835</td>\n",
       "    </tr>\n",
       "  </tbody>\n",
       "</table>\n",
       "</div>"
      ],
      "text/plain": [
       "group          millercenter  inaugurals_pretrump  election2008_speeches  \\\n",
       "synset                                                                    \n",
       "freedom(s)         0.002445             0.004309               0.001200   \n",
       "libert(y/ies)      0.001147             0.003045               0.000380   \n",
       "rights             0.002484             0.003113               0.001329   \n",
       "public             0.005433             0.005121               0.001570   \n",
       "\n",
       "group          election2012_speeches  election2016_speeches  \\\n",
       "synset                                                        \n",
       "freedom(s)                  0.002541               0.001028   \n",
       "libert(y/ies)               0.001440               0.000452   \n",
       "rights                      0.000938               0.001684   \n",
       "public                      0.000711               0.001779   \n",
       "\n",
       "group          election2016_speeches_trump  inaugurals_trump  \n",
       "synset                                                        \n",
       "freedom(s)                        0.000434          0.001835  \n",
       "libert(y/ies)                     0.000269          0.000000  \n",
       "rights                            0.000496          0.000000  \n",
       "public                            0.001944          0.001835  "
      ]
     },
     "execution_count": 122,
     "metadata": {},
     "output_type": "execute_result"
    }
   ],
   "source": [
    "df = create_group_x_synset_df(focus_groups, focus_synsets)\n",
    "df"
   ]
  },
  {
   "cell_type": "code",
   "execution_count": 123,
   "metadata": {
    "collapsed": false
   },
   "outputs": [
    {
     "data": {
      "text/html": [
       "<div>\n",
       "<table border=\"1\" class=\"dataframe\">\n",
       "  <thead>\n",
       "    <tr style=\"text-align: right;\">\n",
       "      <th>group</th>\n",
       "      <th>millercenter</th>\n",
       "      <th>inaugurals_pretrump</th>\n",
       "      <th>election2008_speeches</th>\n",
       "      <th>election2012_speeches</th>\n",
       "      <th>election2016_speeches</th>\n",
       "      <th>election2016_speeches_trump</th>\n",
       "      <th>inaugurals_trump</th>\n",
       "    </tr>\n",
       "    <tr>\n",
       "      <th>synset</th>\n",
       "      <th></th>\n",
       "      <th></th>\n",
       "      <th></th>\n",
       "      <th></th>\n",
       "      <th></th>\n",
       "      <th></th>\n",
       "      <th></th>\n",
       "    </tr>\n",
       "  </thead>\n",
       "  <tbody>\n",
       "    <tr>\n",
       "      <th>freedom(s)</th>\n",
       "      <td>409.035857</td>\n",
       "      <td>232.083770</td>\n",
       "      <td>833.530179</td>\n",
       "      <td>393.526508</td>\n",
       "      <td>972.637771</td>\n",
       "      <td>2302.285714</td>\n",
       "      <td>545.000000</td>\n",
       "    </tr>\n",
       "    <tr>\n",
       "      <th>libert(y/ies)</th>\n",
       "      <td>871.709434</td>\n",
       "      <td>328.355556</td>\n",
       "      <td>2633.783505</td>\n",
       "      <td>694.383871</td>\n",
       "      <td>2212.408451</td>\n",
       "      <td>3719.076923</td>\n",
       "      <td>inf</td>\n",
       "    </tr>\n",
       "    <tr>\n",
       "      <th>rights</th>\n",
       "      <td>402.619608</td>\n",
       "      <td>321.217391</td>\n",
       "      <td>752.509573</td>\n",
       "      <td>1065.638614</td>\n",
       "      <td>593.879017</td>\n",
       "      <td>2014.500000</td>\n",
       "      <td>inf</td>\n",
       "    </tr>\n",
       "    <tr>\n",
       "      <th>public</th>\n",
       "      <td>184.066135</td>\n",
       "      <td>195.277533</td>\n",
       "      <td>637.099751</td>\n",
       "      <td>1406.921569</td>\n",
       "      <td>562.007156</td>\n",
       "      <td>514.340426</td>\n",
       "      <td>545.000000</td>\n",
       "    </tr>\n",
       "  </tbody>\n",
       "</table>\n",
       "</div>"
      ],
      "text/plain": [
       "group          millercenter  inaugurals_pretrump  election2008_speeches  \\\n",
       "synset                                                                    \n",
       "freedom(s)       409.035857           232.083770             833.530179   \n",
       "libert(y/ies)    871.709434           328.355556            2633.783505   \n",
       "rights           402.619608           321.217391             752.509573   \n",
       "public           184.066135           195.277533             637.099751   \n",
       "\n",
       "group          election2012_speeches  election2016_speeches  \\\n",
       "synset                                                        \n",
       "freedom(s)                393.526508             972.637771   \n",
       "libert(y/ies)             694.383871            2212.408451   \n",
       "rights                   1065.638614             593.879017   \n",
       "public                   1406.921569             562.007156   \n",
       "\n",
       "group          election2016_speeches_trump  inaugurals_trump  \n",
       "synset                                                        \n",
       "freedom(s)                     2302.285714        545.000000  \n",
       "libert(y/ies)                  3719.076923               inf  \n",
       "rights                         2014.500000               inf  \n",
       "public                          514.340426        545.000000  "
      ]
     },
     "execution_count": 123,
     "metadata": {},
     "output_type": "execute_result"
    }
   ],
   "source": [
    "1/df"
   ]
  },
  {
   "cell_type": "code",
   "execution_count": 126,
   "metadata": {
    "collapsed": false
   },
   "outputs": [
    {
     "data": {
      "image/png": "[encoded data removed]",
      "text/plain": [
       "<matplotlib.figure.Figure at 0x11e833e90>"
      ]
     },
     "metadata": {},
     "output_type": "display_data"
    }
   ],
   "source": [
    "group_descriptions = {group.name: group.description for group in groups}\n",
    "ax = df.rename(columns=group_descriptions).plot(figsize=(8.5, 4.5), kind='bar')\n",
    "ax.xaxis.label.set_visible(False)\n",
    "ax.yaxis.set_major_formatter(ticker.FuncFormatter(lambda y, _: '{:.01%}'.format(y)))\n",
    "legend = ax.legend()\n",
    "legend.set_title(None)\n",
    "# plt.legend(loc=\"upper left\", bbox_to_anchor=(1,1))\n",
    "plt.legend(loc='best')\n",
    "plt.xticks(rotation=0)\n",
    "plt.ylabel('Proportion of content words')\n",
    "plt.suptitle('Use of democratic vocabulary by President Trump and others', y=1.02)\n",
    "# plt.title('(bootstrapping seed terms with top 10 collocations in each group)')\n",
    "plt.tight_layout()\n",
    "# plt.savefig('democratic_vocabulary_proportions-bootstrapped.pdf')"
   ]
  },
  {
   "cell_type": "code",
   "execution_count": 363,
   "metadata": {
    "collapsed": false
   },
   "outputs": [],
   "source": [
    "def iter_synsets_bootstrapped(speeches, synsets, n):\n",
    "    collocation_mapping = dict(nlp.sentence_collocation_mapping(speech.document for speech in speeches))\n",
    "    for synset_name, synset_tokens in synsets:\n",
    "        for bootstrapped_token in nlp.bootstrap_strings(synset_tokens, collocation_mapping, n):\n",
    "            yield synset_name + ' = ' + ', '.join(synset_tokens), bootstrapped_token"
   ]
  },
  {
   "cell_type": "code",
   "execution_count": 364,
   "metadata": {
    "collapsed": false
   },
   "outputs": [],
   "source": [
    "df_bootstrapped = pd.DataFrame(iter_synsets_bootstrapped(inaugurals.speeches, focus_synsets, 10),\n",
    "                               columns=['synset', 'bootstrapped_token'])"
   ]
  },
  {
   "cell_type": "code",
   "execution_count": 366,
   "metadata": {
    "collapsed": false,
    "scrolled": false
   },
   "outputs": [],
   "source": [
    "# df_bootstrapped.set_index(['synset', 'bootstrapped_token'])"
   ]
  },
  {
   "cell_type": "code",
   "execution_count": 259,
   "metadata": {
    "collapsed": false
   },
   "outputs": [],
   "source": [
    "# df_bootstrapped.pivot(columns='synset', values='bootstrapped_token')"
   ]
  },
  {
   "cell_type": "markdown",
   "metadata": {},
   "source": [
    "# Trump over time"
   ]
  },
  {
   "cell_type": "code",
   "execution_count": 704,
   "metadata": {
    "collapsed": true
   },
   "outputs": [],
   "source": [
    "# pd.options.display.max_rows = 20"
   ]
  },
  {
   "cell_type": "code",
   "execution_count": 113,
   "metadata": {
    "collapsed": true
   },
   "outputs": [],
   "source": [
    "def create_timeseries_df(df, values='synset_proportion_smoothed', columns='synset', ax=None):\n",
    "    df_pivot = df.reset_index().pivot_table(values=values, index='timestamp', columns=columns)\n",
    "    ax = df_pivot.plot(kind='line', ax=ax, grid=True)\n",
    "    ax.yaxis.set_major_formatter(ticker.FuncFormatter(lambda y, _: '{:.02%}'.format(y)))\n",
    "    ax.legend(loc='best').set_title(None)\n",
    "    #ax.set_xlabel('Speech date')\n",
    "    ax.set_ylabel('Percentage of content words')\n",
    "    return df_pivot"
   ]
  },
  {
   "cell_type": "code",
   "execution_count": 114,
   "metadata": {
    "collapsed": false
   },
   "outputs": [],
   "source": [
    "focus_synset_names = {\n",
    "    'freedom(s)', 'libert(y/ies)', 'rights', 'public',\n",
    "    #'america(n(s))', 'job(s)',\n",
    "}\n",
    "focus_synsets = [(synset_name, synset_tokens) for synset_name, synset_tokens in synsets\n",
    "                 if synset_name in focus_synset_names]"
   ]
  },
  {
   "cell_type": "code",
   "execution_count": 115,
   "metadata": {
    "collapsed": false
   },
   "outputs": [
    {
     "ename": "KeyError",
     "evalue": "'trump_election2016_speeches'",
     "output_type": "error",
     "traceback": [
      "\u001b[0;31m---------------------------------------------------------------------------\u001b[0m",
      "\u001b[0;31mKeyError\u001b[0m                                  Traceback (most recent call last)",
      "\u001b[0;32m<ipython-input-115-26c1970501a8>\u001b[0m in \u001b[0;36m<module>\u001b[0;34m()\u001b[0m\n\u001b[0;32m----> 1\u001b[0;31m \u001b[0mdf\u001b[0m \u001b[0;34m=\u001b[0m \u001b[0mpd\u001b[0m\u001b[0;34m.\u001b[0m\u001b[0mDataFrame\u001b[0m\u001b[0;34m(\u001b[0m\u001b[0miter_speeches_counts\u001b[0m\u001b[0;34m(\u001b[0m\u001b[0mspeeches\u001b[0m\u001b[0;34m[\u001b[0m\u001b[0;34m'trump_election2016_speeches'\u001b[0m\u001b[0;34m]\u001b[0m\u001b[0;34m,\u001b[0m \u001b[0mfocus_synsets\u001b[0m\u001b[0;34m,\u001b[0m \u001b[0mstandard_stopwords\u001b[0m\u001b[0;34m)\u001b[0m\u001b[0;34m)\u001b[0m\u001b[0;34m.\u001b[0m    \u001b[0msort_values\u001b[0m\u001b[0;34m(\u001b[0m\u001b[0;34m'timestamp'\u001b[0m\u001b[0;34m)\u001b[0m\u001b[0;34m.\u001b[0m\u001b[0mset_index\u001b[0m\u001b[0;34m(\u001b[0m\u001b[0;34m[\u001b[0m\u001b[0;34m'synset'\u001b[0m\u001b[0;34m,\u001b[0m \u001b[0;34m'id'\u001b[0m\u001b[0;34m]\u001b[0m\u001b[0;34m,\u001b[0m \u001b[0mverify_integrity\u001b[0m\u001b[0;34m=\u001b[0m\u001b[0mTrue\u001b[0m\u001b[0;34m)\u001b[0m\u001b[0;34m\u001b[0m\u001b[0m\n\u001b[0m\u001b[1;32m      2\u001b[0m df['synset_proportion_smoothed'] = df.groupby(level='synset', group_keys=False).apply(\n\u001b[1;32m      3\u001b[0m     \u001b[0;32mlambda\u001b[0m \u001b[0mg\u001b[0m\u001b[0;34m:\u001b[0m \u001b[0mg\u001b[0m\u001b[0;34m.\u001b[0m\u001b[0msynset_proportion\u001b[0m\u001b[0;34m.\u001b[0m\u001b[0mrolling\u001b[0m\u001b[0;34m(\u001b[0m\u001b[0;36m10\u001b[0m\u001b[0;34m,\u001b[0m \u001b[0mmin_periods\u001b[0m\u001b[0;34m=\u001b[0m\u001b[0;36m1\u001b[0m\u001b[0;34m,\u001b[0m \u001b[0mcenter\u001b[0m\u001b[0;34m=\u001b[0m\u001b[0mTrue\u001b[0m\u001b[0;34m)\u001b[0m\u001b[0;34m.\u001b[0m\u001b[0mmean\u001b[0m\u001b[0;34m(\u001b[0m\u001b[0;34m)\u001b[0m\u001b[0;34m\u001b[0m\u001b[0m\n\u001b[1;32m      4\u001b[0m )\n",
      "\u001b[0;31mKeyError\u001b[0m: 'trump_election2016_speeches'"
     ]
    }
   ],
   "source": [
    "df = pd.DataFrame(iter_speeches_counts(speeches['trump_election2016_speeches'], focus_synsets, standard_stopwords)).\\\n",
    "    sort_values('timestamp').set_index(['synset', 'id'], verify_integrity=True)\n",
    "df['synset_proportion_smoothed'] = df.groupby(level='synset', group_keys=False).apply(\n",
    "    lambda g: g.synset_proportion.rolling(10, min_periods=1, center=True).mean()\n",
    ")"
   ]
  },
  {
   "cell_type": "code",
   "execution_count": 711,
   "metadata": {
    "collapsed": false
   },
   "outputs": [],
   "source": [
    "daily_speeches = df.reset_index().drop_duplicates(['id']).groupby('timestamp').size()\n",
    "# daily_speeches"
   ]
  },
  {
   "cell_type": "code",
   "execution_count": 712,
   "metadata": {
    "collapsed": false
   },
   "outputs": [
    {
     "data": {
      "text/plain": [
       "<matplotlib.text.Text at 0x135da4c50>"
      ]
     },
     "execution_count": 712,
     "metadata": {},
     "output_type": "execute_result"
    },
    {
     "data": {
      "image/png": "[encoded data removed]",
      "text/plain": [
       "<matplotlib.figure.Figure at 0x136af89d0>"
      ]
     },
     "metadata": {},
     "output_type": "display_data"
    }
   ],
   "source": [
    "fig = plt.figure()#figsize=(12,5))\n",
    "grid = mgridspec.GridSpec(nrows=2, ncols=1, height_ratios=[4, 1])\n",
    "\n",
    "# produce top synsets plot\n",
    "synset_ax = fig.add_subplot(grid[0])\n",
    "synset_ax.tick_params(labelbottom='off')\n",
    "synset_ax.xaxis.label.set_visible(False)\n",
    "plot_timeseries(df, ax=synset_ax)\n",
    "synset_ax.set_title('(smoothed via rolling window over %d speeches at a time)' % smoothing_window, {'fontsize': 12})\n",
    "\n",
    "# produce bottom daily speeches plot\n",
    "daily_ax = fig.add_subplot(grid[1])\n",
    "daily_ax.xaxis.tick_top()\n",
    "# for a bar plot, width=-1, align='edge' is like width=1, align='right' except 'right' isn't a valid align value\n",
    "daily_ax.bar(timestamp_counts.index, timestamp_counts.values, width=-1, align='edge') # width is in days?\n",
    "daily_ax.set_ylabel('Number of\\nspeeches\\nper day')\n",
    "\n",
    "# trim axes the same\n",
    "min_x = pd.to_datetime('2016-06-01')\n",
    "max_x = pd.to_datetime('2016-11-09')\n",
    "synset_ax.set_xlim(min_x, max_x)\n",
    "daily_ax.set_xlim(min_x, max_x)\n",
    "daily_ax.set_ylim(None, 2)\n",
    "\n",
    "plt.suptitle('Proportion of content words President Trump used in speeches throughout his campaign')\n",
    "# fig.tight_layout()"
   ]
  },
  {
   "cell_type": "markdown",
   "metadata": {},
   "source": [
    "# Significant others"
   ]
  },
  {
   "cell_type": "code",
   "execution_count": 40,
   "metadata": {
    "collapsed": true
   },
   "outputs": [],
   "source": [
    "pd.options.display.max_columns = 10\n",
    "pd.options.display.max_rows = 10"
   ]
  },
  {
   "cell_type": "code",
   "execution_count": 41,
   "metadata": {
    "collapsed": false
   },
   "outputs": [],
   "source": [
    "def set_proportion(df):\n",
    "    '''\n",
    "    This seems ugly as the argument to pd.GroupedDataSeries.apply(), but it works\n",
    "    '''\n",
    "    df['proportion'] = df['word_count'] / np.sum(df['word_count'])\n",
    "    return df"
   ]
  },
  {
   "cell_type": "code",
   "execution_count": 43,
   "metadata": {
    "collapsed": false
   },
   "outputs": [
    {
     "name": "stdout",
     "output_type": "stream",
     "text": [
      "|inaugural_counts| = 58029\n",
      "|trump_counts| = 622\n"
     ]
    }
   ],
   "source": [
    "groups = [\n",
    "    ('inaugural', speeches_counts['inaugurals_pretrump']),\n",
    "    ('trump', speeches_counts['trump_inaugurals']),\n",
    "]\n",
    "for group_name, group_counts in groups:\n",
    "    print '|{:}_counts| = {:d}'.format(group_name, sum(group_counts.values()))"
   ]
  },
  {
   "cell_type": "code",
   "execution_count": 44,
   "metadata": {
    "collapsed": false
   },
   "outputs": [
    {
     "name": "stdout",
     "output_type": "stream",
     "text": [
      "|full_vocab| = 8975\n"
     ]
    }
   ],
   "source": [
    "full_vocab = set([token for _, counts in groups for token in counts.keys()])\n",
    "print '|full_vocab| =', len(full_vocab)"
   ]
  },
  {
   "cell_type": "code",
   "execution_count": 45,
   "metadata": {
    "collapsed": true
   },
   "outputs": [],
   "source": [
    "k = 500\n",
    "smoothing = 1.0"
   ]
  },
  {
   "cell_type": "code",
   "execution_count": 48,
   "metadata": {
    "collapsed": false,
    "scrolled": false
   },
   "outputs": [],
   "source": [
    "df_counts = pd.DataFrame.from_dict(iter_group_counts(groups, full_vocab, smoothing)).\\\n",
    "    groupby('group').apply(set_proportion)\n",
    "# df_counts[df_counts.proportion > 0.0005]\n",
    "# df_counts"
   ]
  },
  {
   "cell_type": "code",
   "execution_count": 49,
   "metadata": {
    "collapsed": false
   },
   "outputs": [],
   "source": [
    "# derive more condensed vocabulary\n",
    "df_proportions_merged = df_counts.groupby('word').agg({'proportion': np.mean})\n",
    "# df_proportions_merged.sort_values('proportion', ascending=False)"
   ]
  },
  {
   "cell_type": "code",
   "execution_count": 50,
   "metadata": {
    "collapsed": false
   },
   "outputs": [
    {
     "name": "stdout",
     "output_type": "stream",
     "text": [
      "|vocab| = 500\n"
     ]
    }
   ],
   "source": [
    "vocab = set(df_proportions_merged.nlargest(k, 'proportion').index)\n",
    "print '|vocab| =', len(vocab)"
   ]
  },
  {
   "cell_type": "code",
   "execution_count": 51,
   "metadata": {
    "collapsed": false
   },
   "outputs": [],
   "source": [
    "# print ' '.join(vocab)"
   ]
  },
  {
   "cell_type": "code",
   "execution_count": 999,
   "metadata": {
    "collapsed": false
   },
   "outputs": [],
   "source": [
    "# could take a second depending on how rare the vocab is\n",
    "# vocab_1t_frequencies = dict(google_1t_frequencies(vocab))"
   ]
  },
  {
   "cell_type": "code",
   "execution_count": 54,
   "metadata": {
    "collapsed": false
   },
   "outputs": [],
   "source": [
    "# recount with condensed vocab\n",
    "# df_counts = pd.DataFrame.from_dict(iter_group_counts(groups, vocab, smoothing)).\\\n",
    "#     groupby('group').apply(set_proportion)\n",
    "# df_counts.sort_values('proportion', ascending=False)"
   ]
  },
  {
   "cell_type": "code",
   "execution_count": 55,
   "metadata": {
    "collapsed": false
   },
   "outputs": [],
   "source": [
    "# trump_counts = df_counts[df_counts.group=='trump']\n",
    "# trump_counts.sort_values('proportion', ascending=False).reset_index(drop=True)\n",
    "# trump_counts_reordered = trump_counts.sort_values('proportion', ascending=False).reset_index(drop=True)\n",
    "# trump_counts_reordered[trump_counts_reordered.word=='donald']"
   ]
  },
  {
   "cell_type": "code",
   "execution_count": 56,
   "metadata": {
    "collapsed": false,
    "scrolled": false
   },
   "outputs": [],
   "source": [
    "# inaugural_counts = df_counts[df_counts.group=='inaugural']\n",
    "# inaugural_counts = inaugural_counts.sort_values('proportion', ascending=False).reset_index(drop=True)\n",
    "# pd.options.display.max_rows = 100\n",
    "# inaugural_counts"
   ]
  },
  {
   "cell_type": "markdown",
   "metadata": {},
   "source": [
    "### Oh boy word clouds"
   ]
  },
  {
   "cell_type": "code",
   "execution_count": 59,
   "metadata": {
    "collapsed": false
   },
   "outputs": [],
   "source": [
    "def display_frequencies_wordcloud(frequencies):\n",
    "    #wordCloud = WordCloud(max_font_size=40)\n",
    "    wordCloud = WordCloud()\n",
    "    wordCloud_generated = wordCloud.generate_from_frequencies(frequencies)\n",
    "    plt.imshow(wordCloud_generated)\n",
    "    plt.axis('off')"
   ]
  },
  {
   "cell_type": "code",
   "execution_count": 61,
   "metadata": {
    "collapsed": false
   },
   "outputs": [],
   "source": [
    "# for group, group_df in df_counts.groupby('group'):\n",
    "#     plt.figure(figsize=(8.5, 4))\n",
    "#     display_frequencies_wordcloud(zip(group_df.word, group_df.proportion))    \n",
    "#     plt.title(group)"
   ]
  },
  {
   "cell_type": "markdown",
   "metadata": {},
   "source": [
    "### Back to business\n",
    "\n",
    "That's nice to look at, but we also want some consistent ordering of relative inaugural-ness vs. Trumpery.\n",
    "\n",
    "We can get that just by dividing one over the other. We'll use Trump proportion / Inaugural proportion, so higher values will indicate higher Trumpery."
   ]
  },
  {
   "cell_type": "code",
   "execution_count": 62,
   "metadata": {
    "collapsed": false
   },
   "outputs": [],
   "source": [
    "df_proportions = df_counts.pivot(index='word', columns='group', values='proportion')\n",
    "df_proportions['trump/inaugural'] = df_proportions.trump / df_proportions.inaugural"
   ]
  },
  {
   "cell_type": "markdown",
   "metadata": {},
   "source": [
    "The ratio produces the desired ordering, but it ranges from very tiny values,\n",
    "to 1 (meaning similar usage), to arbitrarily large values.\n",
    "\n",
    "As we'll seen in a second with the (log-log) scatter plot, what we want is a sort of radial / angular measure.\n",
    "The words around the y=x diagonal see similar usage, with the words in the upper-left being more Trump-ish and the words in the lower-right being more Inaugural.\n",
    "Yay trigonometry!"
   ]
  },
  {
   "cell_type": "code",
   "execution_count": 63,
   "metadata": {
    "collapsed": false
   },
   "outputs": [],
   "source": [
    "#rad = np.arctan(df_proportions['trump/inaugural'])\n",
    "rad = np.arctan2(df_proportions.trump, df_proportions.inaugural)\n",
    "# re-map from [0, pi/2] to [-1, 1]\n",
    "df_proportions[u'trump°inaugural'] = rad * (4.0 / np.pi) + -1.0"
   ]
  },
  {
   "cell_type": "code",
   "execution_count": 64,
   "metadata": {
    "collapsed": true
   },
   "outputs": [],
   "source": [
    "df_proportions = df_proportions.sort_values(u'trump°inaugural')"
   ]
  },
  {
   "cell_type": "code",
   "execution_count": 65,
   "metadata": {
    "collapsed": false
   },
   "outputs": [],
   "source": [
    "# df_proportions['google_1t'] = df_proportions.index.map(lambda k: vocab_1t_frequencies.get(k, 1))"
   ]
  },
  {
   "cell_type": "code",
   "execution_count": 67,
   "metadata": {
    "collapsed": false
   },
   "outputs": [],
   "source": [
    "# plt.figure(figsize=(8.5, 8.5))\n",
    "# x = df_proportions['inaugural']\n",
    "# plt.xscale('log')\n",
    "# # plt.xlabel('global frequency of word (based on Google 1T unigrams)')\n",
    "# plt.xlabel('inaugural-ness')\n",
    "# y = df_proportions['trump']\n",
    "# plt.yscale('log')\n",
    "# # plt.ylabel(u'relative\\n<- inauguralness or Trumpery ->')\n",
    "# plt.ylabel('trumpery')\n",
    "# # points\n",
    "# plt.scatter(x, y, c=df_proportions[u'trump°inaugural'], cmap=plt.cm.BrBG, linewidths=0, s=50)\n",
    "# annotations = []\n",
    "# for label, x, y in zip(df_proportions.index, x, y):\n",
    "#     annotation = plt.annotate(label, xy=(x, y), xytext=(2, 2),\n",
    "#                  size='large',\n",
    "#                  textcoords='offset points', ha='left', va='bottom')\n",
    "#     annotations.append(annotation)\n",
    "# adjust_text(annotations, force_text=0.08, arrowprops=dict(arrowstyle=\"-|>\", color='k', alpha=0.33))    \n",
    "# plt.tight_layout()"
   ]
  },
  {
   "cell_type": "markdown",
   "metadata": {},
   "source": [
    "That's neat, but kind of a mess. More directly, we can look at the actual ranking."
   ]
  },
  {
   "cell_type": "code",
   "execution_count": 69,
   "metadata": {
    "collapsed": false,
    "scrolled": false
   },
   "outputs": [
    {
     "data": {
      "text/html": [
       "<div>\n",
       "<table border=\"1\" class=\"dataframe\">\n",
       "  <thead>\n",
       "    <tr style=\"text-align: right;\">\n",
       "      <th>group</th>\n",
       "      <th>inaugural</th>\n",
       "      <th>trump</th>\n",
       "      <th>trump/inaugural</th>\n",
       "      <th>trump°inaugural</th>\n",
       "    </tr>\n",
       "    <tr>\n",
       "      <th>word</th>\n",
       "      <th></th>\n",
       "      <th></th>\n",
       "      <th></th>\n",
       "      <th></th>\n",
       "    </tr>\n",
       "  </thead>\n",
       "  <tbody>\n",
       "    <tr>\n",
       "      <th>peace</th>\n",
       "      <td>0.009134</td>\n",
       "      <td>0.001181</td>\n",
       "      <td>0.129257</td>\n",
       "      <td>-0.836333</td>\n",
       "    </tr>\n",
       "    <tr>\n",
       "      <th>constitution</th>\n",
       "      <td>0.007493</td>\n",
       "      <td>0.001181</td>\n",
       "      <td>0.157570</td>\n",
       "      <td>-0.801012</td>\n",
       "    </tr>\n",
       "    <tr>\n",
       "      <th>freedom</th>\n",
       "      <td>0.006815</td>\n",
       "      <td>0.001181</td>\n",
       "      <td>0.173245</td>\n",
       "      <td>-0.781586</td>\n",
       "    </tr>\n",
       "    <tr>\n",
       "      <th>union</th>\n",
       "      <td>0.006743</td>\n",
       "      <td>0.001181</td>\n",
       "      <td>0.175078</td>\n",
       "      <td>-0.779320</td>\n",
       "    </tr>\n",
       "    <tr>\n",
       "      <th>war</th>\n",
       "      <td>0.006387</td>\n",
       "      <td>0.001181</td>\n",
       "      <td>0.184859</td>\n",
       "      <td>-0.767258</td>\n",
       "    </tr>\n",
       "    <tr>\n",
       "      <th>...</th>\n",
       "      <td>...</td>\n",
       "      <td>...</td>\n",
       "      <td>...</td>\n",
       "      <td>...</td>\n",
       "    </tr>\n",
       "    <tr>\n",
       "      <th>dreams</th>\n",
       "      <td>0.000535</td>\n",
       "      <td>0.007084</td>\n",
       "      <td>13.235891</td>\n",
       "      <td>0.903986</td>\n",
       "    </tr>\n",
       "    <tr>\n",
       "      <th>factories</th>\n",
       "      <td>0.000250</td>\n",
       "      <td>0.004723</td>\n",
       "      <td>18.908416</td>\n",
       "      <td>0.932725</td>\n",
       "    </tr>\n",
       "    <tr>\n",
       "      <th>borders</th>\n",
       "      <td>0.000250</td>\n",
       "      <td>0.004723</td>\n",
       "      <td>18.908416</td>\n",
       "      <td>0.932725</td>\n",
       "    </tr>\n",
       "    <tr>\n",
       "      <th>jobs</th>\n",
       "      <td>0.000285</td>\n",
       "      <td>0.005903</td>\n",
       "      <td>20.681080</td>\n",
       "      <td>0.938482</td>\n",
       "    </tr>\n",
       "    <tr>\n",
       "      <th>everyone</th>\n",
       "      <td>0.000285</td>\n",
       "      <td>0.005903</td>\n",
       "      <td>20.681080</td>\n",
       "      <td>0.938482</td>\n",
       "    </tr>\n",
       "  </tbody>\n",
       "</table>\n",
       "<p>500 rows × 4 columns</p>\n",
       "</div>"
      ],
      "text/plain": [
       "group         inaugural     trump  trump/inaugural  trump°inaugural\n",
       "word                                                               \n",
       "peace          0.009134  0.001181         0.129257        -0.836333\n",
       "constitution   0.007493  0.001181         0.157570        -0.801012\n",
       "freedom        0.006815  0.001181         0.173245        -0.781586\n",
       "union          0.006743  0.001181         0.175078        -0.779320\n",
       "war            0.006387  0.001181         0.184859        -0.767258\n",
       "...                 ...       ...              ...              ...\n",
       "dreams         0.000535  0.007084        13.235891         0.903986\n",
       "factories      0.000250  0.004723        18.908416         0.932725\n",
       "borders        0.000250  0.004723        18.908416         0.932725\n",
       "jobs           0.000285  0.005903        20.681080         0.938482\n",
       "everyone       0.000285  0.005903        20.681080         0.938482\n",
       "\n",
       "[500 rows x 4 columns]"
      ]
     },
     "execution_count": 69,
     "metadata": {},
     "output_type": "execute_result"
    }
   ],
   "source": [
    "pd.options.display.max_rows = 10\n",
    "df_proportions"
   ]
  },
  {
   "cell_type": "markdown",
   "metadata": {},
   "source": [
    "Still, it's a lot of numbers. Let's discretize."
   ]
  },
  {
   "cell_type": "markdown",
   "metadata": {},
   "source": [
    "### Categories of trumpiness \n",
    "\n",
    "Having an ordering on the words means we can bin the words in discrete chunks.\n",
    "\n",
    "The `trump/inaugural` ratio is monotonic with the `trump°inaugural` column, but since the latter has a nicer scale, we'll use it."
   ]
  },
  {
   "cell_type": "code",
   "execution_count": 70,
   "metadata": {
    "collapsed": false
   },
   "outputs": [],
   "source": [
    "# equal bin widths:\n",
    "# _, binedges = np.histogram(df_proportions[u'trump°inaugural'], bins=7)\n",
    "# equal bin depths:\n",
    "binedges = np.percentile(df_proportions[u'trump°inaugural'], np.linspace(0, 100, 8))"
   ]
  },
  {
   "cell_type": "code",
   "execution_count": 71,
   "metadata": {
    "collapsed": false
   },
   "outputs": [],
   "source": [
    "binnames = ['Most presidential', '2nd-most presidential', '3rd-most presidential',\n",
    "            'Neutral', \n",
    "            '3rd-most Trumpy', '2nd-most Trumpy', 'Most Trumpy']\n",
    "assignments = np.digitize(df_proportions[u'trump°inaugural'], binedges[:-1]) - 1\n",
    "df_proportions['trumpiness'] = np.array(binnames)[assignments]"
   ]
  },
  {
   "cell_type": "code",
   "execution_count": 72,
   "metadata": {
    "collapsed": false
   },
   "outputs": [],
   "source": [
    "trumpiness_bins = [(name, pd.Series(list(group_df.sort_values(u'trump°inaugural', ascending=True).word)))\n",
    "                   for name, group_df in df_proportions.reset_index().groupby('trumpiness')]\n",
    "df_bins = pd.DataFrame(dict(trumpiness_bins)).fillna('')\n",
    "df_bins = df_bins[binnames]"
   ]
  },
  {
   "cell_type": "code",
   "execution_count": 73,
   "metadata": {
    "collapsed": false
   },
   "outputs": [],
   "source": [
    "pd.options.display.max_rows = 40\n",
    "# df_bins"
   ]
  },
  {
   "cell_type": "markdown",
   "metadata": {
    "collapsed": true
   },
   "source": [
    "# Focus\n",
    "\n",
    "How about we focus in on a couple specific words."
   ]
  },
  {
   "cell_type": "code",
   "execution_count": 76,
   "metadata": {
    "collapsed": false,
    "scrolled": false
   },
   "outputs": [],
   "source": [
    "# pd.options.display.max_rows = 200\n",
    "# df_proportions.sort_values(u'trump°inaugural')"
   ]
  },
  {
   "cell_type": "code",
   "execution_count": 77,
   "metadata": {
    "collapsed": true
   },
   "outputs": [],
   "source": [
    "df_proportions_sorted = df_proportions.sort_values(u'trump°inaugural')"
   ]
  },
  {
   "cell_type": "code",
   "execution_count": 78,
   "metadata": {
    "collapsed": false
   },
   "outputs": [
    {
     "data": {
      "text/html": [
       "<div>\n",
       "<table border=\"1\" class=\"dataframe\">\n",
       "  <thead>\n",
       "    <tr style=\"text-align: right;\">\n",
       "      <th>group</th>\n",
       "      <th>inaugural</th>\n",
       "      <th>trump</th>\n",
       "      <th>trump/inaugural</th>\n",
       "      <th>trump°inaugural</th>\n",
       "      <th>trumpiness</th>\n",
       "    </tr>\n",
       "    <tr>\n",
       "      <th>word</th>\n",
       "      <th></th>\n",
       "      <th></th>\n",
       "      <th></th>\n",
       "      <th></th>\n",
       "      <th></th>\n",
       "    </tr>\n",
       "  </thead>\n",
       "  <tbody>\n",
       "    <tr>\n",
       "      <th>peace</th>\n",
       "      <td>0.009134</td>\n",
       "      <td>0.001181</td>\n",
       "      <td>0.129257</td>\n",
       "      <td>-0.836333</td>\n",
       "      <td>Most presidential</td>\n",
       "    </tr>\n",
       "    <tr>\n",
       "      <th>constitution</th>\n",
       "      <td>0.007493</td>\n",
       "      <td>0.001181</td>\n",
       "      <td>0.157570</td>\n",
       "      <td>-0.801012</td>\n",
       "      <td>Most presidential</td>\n",
       "    </tr>\n",
       "    <tr>\n",
       "      <th>freedom</th>\n",
       "      <td>0.006815</td>\n",
       "      <td>0.001181</td>\n",
       "      <td>0.173245</td>\n",
       "      <td>-0.781586</td>\n",
       "      <td>Most presidential</td>\n",
       "    </tr>\n",
       "    <tr>\n",
       "      <th>union</th>\n",
       "      <td>0.006743</td>\n",
       "      <td>0.001181</td>\n",
       "      <td>0.175078</td>\n",
       "      <td>-0.779320</td>\n",
       "      <td>Most presidential</td>\n",
       "    </tr>\n",
       "    <tr>\n",
       "      <th>war</th>\n",
       "      <td>0.006387</td>\n",
       "      <td>0.001181</td>\n",
       "      <td>0.184859</td>\n",
       "      <td>-0.767258</td>\n",
       "      <td>Most presidential</td>\n",
       "    </tr>\n",
       "    <tr>\n",
       "      <th>government</th>\n",
       "      <td>0.021515</td>\n",
       "      <td>0.004723</td>\n",
       "      <td>0.219501</td>\n",
       "      <td>-0.724886</td>\n",
       "      <td>Most presidential</td>\n",
       "    </tr>\n",
       "    <tr>\n",
       "      <th>rights</th>\n",
       "      <td>0.004960</td>\n",
       "      <td>0.001181</td>\n",
       "      <td>0.238056</td>\n",
       "      <td>-0.702437</td>\n",
       "      <td>Most presidential</td>\n",
       "    </tr>\n",
       "    <tr>\n",
       "      <th>laws</th>\n",
       "      <td>0.004745</td>\n",
       "      <td>0.001181</td>\n",
       "      <td>0.248795</td>\n",
       "      <td>-0.689528</td>\n",
       "      <td>Most presidential</td>\n",
       "    </tr>\n",
       "    <tr>\n",
       "      <th>congress</th>\n",
       "      <td>0.004674</td>\n",
       "      <td>0.001181</td>\n",
       "      <td>0.252593</td>\n",
       "      <td>-0.684978</td>\n",
       "      <td>Most presidential</td>\n",
       "    </tr>\n",
       "    <tr>\n",
       "      <th>justice</th>\n",
       "      <td>0.004460</td>\n",
       "      <td>0.001181</td>\n",
       "      <td>0.264718</td>\n",
       "      <td>-0.670508</td>\n",
       "      <td>Most presidential</td>\n",
       "    </tr>\n",
       "    <tr>\n",
       "      <th>liberty</th>\n",
       "      <td>0.004353</td>\n",
       "      <td>0.001181</td>\n",
       "      <td>0.271227</td>\n",
       "      <td>-0.662776</td>\n",
       "      <td>Most presidential</td>\n",
       "    </tr>\n",
       "    <tr>\n",
       "      <th>best</th>\n",
       "      <td>0.004353</td>\n",
       "      <td>0.001181</td>\n",
       "      <td>0.271227</td>\n",
       "      <td>-0.662776</td>\n",
       "      <td>Most presidential</td>\n",
       "    </tr>\n",
       "    <tr>\n",
       "      <th>duty</th>\n",
       "      <td>0.004246</td>\n",
       "      <td>0.001181</td>\n",
       "      <td>0.278065</td>\n",
       "      <td>-0.654680</td>\n",
       "      <td>Most presidential</td>\n",
       "    </tr>\n",
       "    <tr>\n",
       "      <th>hope</th>\n",
       "      <td>0.004210</td>\n",
       "      <td>0.001181</td>\n",
       "      <td>0.280421</td>\n",
       "      <td>-0.651897</td>\n",
       "      <td>Most presidential</td>\n",
       "    </tr>\n",
       "    <tr>\n",
       "      <th>public</th>\n",
       "      <td>0.008135</td>\n",
       "      <td>0.002361</td>\n",
       "      <td>0.290261</td>\n",
       "      <td>-0.640312</td>\n",
       "      <td>Most presidential</td>\n",
       "    </tr>\n",
       "    <tr>\n",
       "      <th>states</th>\n",
       "      <td>0.012024</td>\n",
       "      <td>0.003542</td>\n",
       "      <td>0.294567</td>\n",
       "      <td>-0.635261</td>\n",
       "      <td>Most presidential</td>\n",
       "    </tr>\n",
       "    <tr>\n",
       "      <th>state</th>\n",
       "      <td>0.003925</td>\n",
       "      <td>0.001181</td>\n",
       "      <td>0.300816</td>\n",
       "      <td>-0.627953</td>\n",
       "      <td>Most presidential</td>\n",
       "    </tr>\n",
       "    <tr>\n",
       "      <th>political</th>\n",
       "      <td>0.003818</td>\n",
       "      <td>0.001181</td>\n",
       "      <td>0.309250</td>\n",
       "      <td>-0.618129</td>\n",
       "      <td>Most presidential</td>\n",
       "    </tr>\n",
       "    <tr>\n",
       "      <th>know</th>\n",
       "      <td>0.003711</td>\n",
       "      <td>0.001181</td>\n",
       "      <td>0.318170</td>\n",
       "      <td>-0.607788</td>\n",
       "      <td>Most presidential</td>\n",
       "    </tr>\n",
       "    <tr>\n",
       "      <th>man</th>\n",
       "      <td>0.003675</td>\n",
       "      <td>0.001181</td>\n",
       "      <td>0.321259</td>\n",
       "      <td>-0.604220</td>\n",
       "      <td>Most presidential</td>\n",
       "    </tr>\n",
       "    <tr>\n",
       "      <th>...</th>\n",
       "      <td>...</td>\n",
       "      <td>...</td>\n",
       "      <td>...</td>\n",
       "      <td>...</td>\n",
       "      <td>...</td>\n",
       "    </tr>\n",
       "    <tr>\n",
       "      <th>longer</th>\n",
       "      <td>0.000892</td>\n",
       "      <td>0.003542</td>\n",
       "      <td>3.970767</td>\n",
       "      <td>0.685879</td>\n",
       "      <td>Most Trumpy</td>\n",
       "    </tr>\n",
       "    <tr>\n",
       "      <th>heart</th>\n",
       "      <td>0.001392</td>\n",
       "      <td>0.005903</td>\n",
       "      <td>4.242273</td>\n",
       "      <td>0.705249</td>\n",
       "      <td>Most Trumpy</td>\n",
       "    </tr>\n",
       "    <tr>\n",
       "      <th>safe</th>\n",
       "      <td>0.000821</td>\n",
       "      <td>0.003542</td>\n",
       "      <td>4.316052</td>\n",
       "      <td>0.710114</td>\n",
       "      <td>Most Trumpy</td>\n",
       "    </tr>\n",
       "    <tr>\n",
       "      <th>thank</th>\n",
       "      <td>0.000821</td>\n",
       "      <td>0.003542</td>\n",
       "      <td>4.316052</td>\n",
       "      <td>0.710114</td>\n",
       "      <td>Most Trumpy</td>\n",
       "    </tr>\n",
       "    <tr>\n",
       "      <th>washington</th>\n",
       "      <td>0.000821</td>\n",
       "      <td>0.003542</td>\n",
       "      <td>4.316052</td>\n",
       "      <td>0.710114</td>\n",
       "      <td>Most Trumpy</td>\n",
       "    </tr>\n",
       "    <tr>\n",
       "      <th>wealth</th>\n",
       "      <td>0.001213</td>\n",
       "      <td>0.005903</td>\n",
       "      <td>4.866137</td>\n",
       "      <td>0.741940</td>\n",
       "      <td>Most Trumpy</td>\n",
       "    </tr>\n",
       "    <tr>\n",
       "      <th>bless</th>\n",
       "      <td>0.000678</td>\n",
       "      <td>0.003542</td>\n",
       "      <td>5.224694</td>\n",
       "      <td>0.759216</td>\n",
       "      <td>Most Trumpy</td>\n",
       "    </tr>\n",
       "    <tr>\n",
       "      <th>follow</th>\n",
       "      <td>0.000678</td>\n",
       "      <td>0.003542</td>\n",
       "      <td>5.224694</td>\n",
       "      <td>0.759216</td>\n",
       "      <td>Most Trumpy</td>\n",
       "    </tr>\n",
       "    <tr>\n",
       "      <th>left</th>\n",
       "      <td>0.000892</td>\n",
       "      <td>0.004723</td>\n",
       "      <td>5.294357</td>\n",
       "      <td>0.762310</td>\n",
       "      <td>Most Trumpy</td>\n",
       "    </tr>\n",
       "    <tr>\n",
       "      <th>capital</th>\n",
       "      <td>0.000892</td>\n",
       "      <td>0.004723</td>\n",
       "      <td>5.294357</td>\n",
       "      <td>0.762310</td>\n",
       "      <td>Most Trumpy</td>\n",
       "    </tr>\n",
       "    <tr>\n",
       "      <th>ocean</th>\n",
       "      <td>0.000571</td>\n",
       "      <td>0.003542</td>\n",
       "      <td>6.204324</td>\n",
       "      <td>0.796532</td>\n",
       "      <td>Most Trumpy</td>\n",
       "    </tr>\n",
       "    <tr>\n",
       "      <th>exists</th>\n",
       "      <td>0.000535</td>\n",
       "      <td>0.003542</td>\n",
       "      <td>6.617946</td>\n",
       "      <td>0.809053</td>\n",
       "      <td>Most Trumpy</td>\n",
       "    </tr>\n",
       "    <tr>\n",
       "      <th>belongs</th>\n",
       "      <td>0.000500</td>\n",
       "      <td>0.003542</td>\n",
       "      <td>7.090656</td>\n",
       "      <td>0.821611</td>\n",
       "      <td>Most Trumpy</td>\n",
       "    </tr>\n",
       "    <tr>\n",
       "      <th>families</th>\n",
       "      <td>0.000500</td>\n",
       "      <td>0.004723</td>\n",
       "      <td>9.454208</td>\n",
       "      <td>0.865825</td>\n",
       "      <td>Most Trumpy</td>\n",
       "    </tr>\n",
       "    <tr>\n",
       "      <th>protected</th>\n",
       "      <td>0.000678</td>\n",
       "      <td>0.007084</td>\n",
       "      <td>10.449388</td>\n",
       "      <td>0.878522</td>\n",
       "      <td>Most Trumpy</td>\n",
       "    </tr>\n",
       "    <tr>\n",
       "      <th>dreams</th>\n",
       "      <td>0.000535</td>\n",
       "      <td>0.007084</td>\n",
       "      <td>13.235891</td>\n",
       "      <td>0.903986</td>\n",
       "      <td>Most Trumpy</td>\n",
       "    </tr>\n",
       "    <tr>\n",
       "      <th>factories</th>\n",
       "      <td>0.000250</td>\n",
       "      <td>0.004723</td>\n",
       "      <td>18.908416</td>\n",
       "      <td>0.932725</td>\n",
       "      <td>Most Trumpy</td>\n",
       "    </tr>\n",
       "    <tr>\n",
       "      <th>borders</th>\n",
       "      <td>0.000250</td>\n",
       "      <td>0.004723</td>\n",
       "      <td>18.908416</td>\n",
       "      <td>0.932725</td>\n",
       "      <td>Most Trumpy</td>\n",
       "    </tr>\n",
       "    <tr>\n",
       "      <th>jobs</th>\n",
       "      <td>0.000285</td>\n",
       "      <td>0.005903</td>\n",
       "      <td>20.681080</td>\n",
       "      <td>0.938482</td>\n",
       "      <td>Most Trumpy</td>\n",
       "    </tr>\n",
       "    <tr>\n",
       "      <th>everyone</th>\n",
       "      <td>0.000285</td>\n",
       "      <td>0.005903</td>\n",
       "      <td>20.681080</td>\n",
       "      <td>0.938482</td>\n",
       "      <td>Most Trumpy</td>\n",
       "    </tr>\n",
       "  </tbody>\n",
       "</table>\n",
       "<p>500 rows × 5 columns</p>\n",
       "</div>"
      ],
      "text/plain": [
       "group         inaugural     trump  trump/inaugural  trump°inaugural  \\\n",
       "word                                                                  \n",
       "peace          0.009134  0.001181         0.129257        -0.836333   \n",
       "constitution   0.007493  0.001181         0.157570        -0.801012   \n",
       "freedom        0.006815  0.001181         0.173245        -0.781586   \n",
       "union          0.006743  0.001181         0.175078        -0.779320   \n",
       "war            0.006387  0.001181         0.184859        -0.767258   \n",
       "government     0.021515  0.004723         0.219501        -0.724886   \n",
       "rights         0.004960  0.001181         0.238056        -0.702437   \n",
       "laws           0.004745  0.001181         0.248795        -0.689528   \n",
       "congress       0.004674  0.001181         0.252593        -0.684978   \n",
       "justice        0.004460  0.001181         0.264718        -0.670508   \n",
       "liberty        0.004353  0.001181         0.271227        -0.662776   \n",
       "best           0.004353  0.001181         0.271227        -0.662776   \n",
       "duty           0.004246  0.001181         0.278065        -0.654680   \n",
       "hope           0.004210  0.001181         0.280421        -0.651897   \n",
       "public         0.008135  0.002361         0.290261        -0.640312   \n",
       "states         0.012024  0.003542         0.294567        -0.635261   \n",
       "state          0.003925  0.001181         0.300816        -0.627953   \n",
       "political      0.003818  0.001181         0.309250        -0.618129   \n",
       "know           0.003711  0.001181         0.318170        -0.607788   \n",
       "man            0.003675  0.001181         0.321259        -0.604220   \n",
       "...                 ...       ...              ...              ...   \n",
       "longer         0.000892  0.003542         3.970767         0.685879   \n",
       "heart          0.001392  0.005903         4.242273         0.705249   \n",
       "safe           0.000821  0.003542         4.316052         0.710114   \n",
       "thank          0.000821  0.003542         4.316052         0.710114   \n",
       "washington     0.000821  0.003542         4.316052         0.710114   \n",
       "wealth         0.001213  0.005903         4.866137         0.741940   \n",
       "bless          0.000678  0.003542         5.224694         0.759216   \n",
       "follow         0.000678  0.003542         5.224694         0.759216   \n",
       "left           0.000892  0.004723         5.294357         0.762310   \n",
       "capital        0.000892  0.004723         5.294357         0.762310   \n",
       "ocean          0.000571  0.003542         6.204324         0.796532   \n",
       "exists         0.000535  0.003542         6.617946         0.809053   \n",
       "belongs        0.000500  0.003542         7.090656         0.821611   \n",
       "families       0.000500  0.004723         9.454208         0.865825   \n",
       "protected      0.000678  0.007084        10.449388         0.878522   \n",
       "dreams         0.000535  0.007084        13.235891         0.903986   \n",
       "factories      0.000250  0.004723        18.908416         0.932725   \n",
       "borders        0.000250  0.004723        18.908416         0.932725   \n",
       "jobs           0.000285  0.005903        20.681080         0.938482   \n",
       "everyone       0.000285  0.005903        20.681080         0.938482   \n",
       "\n",
       "group                trumpiness  \n",
       "word                             \n",
       "peace         Most presidential  \n",
       "constitution  Most presidential  \n",
       "freedom       Most presidential  \n",
       "union         Most presidential  \n",
       "war           Most presidential  \n",
       "government    Most presidential  \n",
       "rights        Most presidential  \n",
       "laws          Most presidential  \n",
       "congress      Most presidential  \n",
       "justice       Most presidential  \n",
       "liberty       Most presidential  \n",
       "best          Most presidential  \n",
       "duty          Most presidential  \n",
       "hope          Most presidential  \n",
       "public        Most presidential  \n",
       "states        Most presidential  \n",
       "state         Most presidential  \n",
       "political     Most presidential  \n",
       "know          Most presidential  \n",
       "man           Most presidential  \n",
       "...                         ...  \n",
       "longer              Most Trumpy  \n",
       "heart               Most Trumpy  \n",
       "safe                Most Trumpy  \n",
       "thank               Most Trumpy  \n",
       "washington          Most Trumpy  \n",
       "wealth              Most Trumpy  \n",
       "bless               Most Trumpy  \n",
       "follow              Most Trumpy  \n",
       "left                Most Trumpy  \n",
       "capital             Most Trumpy  \n",
       "ocean               Most Trumpy  \n",
       "exists              Most Trumpy  \n",
       "belongs             Most Trumpy  \n",
       "families            Most Trumpy  \n",
       "protected           Most Trumpy  \n",
       "dreams              Most Trumpy  \n",
       "factories           Most Trumpy  \n",
       "borders             Most Trumpy  \n",
       "jobs                Most Trumpy  \n",
       "everyone            Most Trumpy  \n",
       "\n",
       "[500 rows x 5 columns]"
      ]
     },
     "execution_count": 78,
     "metadata": {},
     "output_type": "execute_result"
    }
   ],
   "source": [
    "extremes_k = 20\n",
    "pd.options.display.max_rows = extremes_k * 2\n",
    "df_proportions_sorted"
   ]
  },
  {
   "cell_type": "code",
   "execution_count": 367,
   "metadata": {
    "collapsed": false
   },
   "outputs": [
    {
     "ename": "NameError",
     "evalue": "name 'df_proportions' is not defined",
     "output_type": "error",
     "traceback": [
      "\u001b[0;31m---------------------------------------------------------------------------\u001b[0m",
      "\u001b[0;31mNameError\u001b[0m                                 Traceback (most recent call last)",
      "\u001b[0;32m<ipython-input-367-9714d8827117>\u001b[0m in \u001b[0;36m<module>\u001b[0;34m()\u001b[0m\n\u001b[0;32m----> 1\u001b[0;31m \u001b[0mranked_words\u001b[0m \u001b[0;34m=\u001b[0m \u001b[0mlist\u001b[0m\u001b[0;34m(\u001b[0m\u001b[0mdf_proportions\u001b[0m\u001b[0;34m.\u001b[0m\u001b[0msort_values\u001b[0m\u001b[0;34m(\u001b[0m\u001b[0;34mu'trump°inaugural'\u001b[0m\u001b[0;34m)\u001b[0m\u001b[0;34m.\u001b[0m\u001b[0mindex\u001b[0m\u001b[0;34m)\u001b[0m\u001b[0;34m\u001b[0m\u001b[0m\n\u001b[0m\u001b[1;32m      2\u001b[0m extremes = {\n\u001b[1;32m      3\u001b[0m     \u001b[0;34m'inaugural'\u001b[0m\u001b[0;34m:\u001b[0m \u001b[0mranked_words\u001b[0m\u001b[0;34m[\u001b[0m\u001b[0;34m:\u001b[0m\u001b[0mextremes_k\u001b[0m\u001b[0;34m]\u001b[0m\u001b[0;34m,\u001b[0m\u001b[0;34m\u001b[0m\u001b[0m\n\u001b[1;32m      4\u001b[0m     \u001b[0;34m'trump'\u001b[0m\u001b[0;34m:\u001b[0m \u001b[0mranked_words\u001b[0m\u001b[0;34m[\u001b[0m\u001b[0;34m-\u001b[0m\u001b[0mextremes_k\u001b[0m\u001b[0;34m:\u001b[0m\u001b[0;34m]\u001b[0m\u001b[0;34m,\u001b[0m\u001b[0;34m\u001b[0m\u001b[0m\n\u001b[1;32m      5\u001b[0m }\n",
      "\u001b[0;31mNameError\u001b[0m: name 'df_proportions' is not defined"
     ]
    }
   ],
   "source": [
    "ranked_words = list(df_proportions.sort_values(u'trump°inaugural').index)\n",
    "extremes = {\n",
    "    'inaugural': ranked_words[:extremes_k],\n",
    "    'trump': ranked_words[-extremes_k:],\n",
    "}\n",
    "extremes_vocab = set(reduce(operator.add, extremes.values()))\n",
    "keywords_vocab = {'freedom', 'freedoms', 'liberty', 'liberties', 'rights', 'justice',\n",
    "                  'borders', 'protected', 'jobs', 'families', 'factories', 'wealth'}"
   ]
  },
  {
   "cell_type": "code",
   "execution_count": 90,
   "metadata": {
    "collapsed": false
   },
   "outputs": [],
   "source": [
    "# df_proportions_subset = df_proportions[df_proportions.index.isin(extreme_40)]\n",
    "df_proportions_subset = df_proportions"
   ]
  },
  {
   "cell_type": "code",
   "execution_count": 177,
   "metadata": {
    "collapsed": false
   },
   "outputs": [
    {
     "data": {
      "image/png": "[encoded data removed]",
      "text/plain": [
       "<matplotlib.figure.Figure at 0x1080a4150>"
      ]
     },
     "metadata": {},
     "output_type": "display_data"
    }
   ],
   "source": [
    "plt.figure(figsize=(8.5, 8.5))\n",
    "xs = df_proportions_subset.inaugural\n",
    "plt.xlabel(\"Proportion in all prior inaugural addresses\")\n",
    "ys = df_proportions_subset.trump - min(df_proportions_subset.trump)\n",
    "plt.ylabel(\"Proportion in President Trump's inaugural address\")\n",
    "# points\n",
    "plt.scatter(xs, ys, \n",
    "            c=df_proportions_subset[u'trump°inaugural'], cmap=plt.cm.cool, #c='#27BC8A',\n",
    "            linewidths=.3, s=25, alpha=0.5)\n",
    "ax = plt.gca()\n",
    "for spine in ax.spines:\n",
    "    ax.spines[spine].set_visible(False)\n",
    "# labels\n",
    "annotations = []\n",
    "for index, (label, x, y) in enumerate(zip(df_proportions_subset.index, xs, ys)):\n",
    "    if label in extremes_vocab:\n",
    "        size = 'large' if label in keywords_vocab else None\n",
    "        annotation = plt.text(x, y, label, size=size)\n",
    "        #annotation = plt.annotate(label, xy=(x, y), size=size)\n",
    "        #, xytext=(2, 2), textcoords='offset points', ha='left', va='bottom')\n",
    "        annotations.append(annotation)\n",
    "# adjustments\n",
    "adjust_text(annotations, force_text=0.012, force_points=0.4,\n",
    "            arrowprops=dict(arrowstyle=\"-\", color='k', alpha=0.33), lim=1000)\n",
    "# plt.xlim(-2.0*margin, 0.015)\n",
    "# plt.ylim(-2.0*margin, 0.015)\n",
    "#plt.plot([0, plt.xlim()[1]], [0, plt.ylim()[1]])\n",
    "# plt.xlim(-2.0*margin, max(xs) + 0.0017)\n",
    "# plt.ylim(-.5*margin, 0.0075)\n",
    "plt.vlines(0, 0, 1, alpha=0.25)\n",
    "plt.hlines(0, 0, 1, alpha=0.25)\n",
    "plt.title('A comparison of the proportions of common content words in presidential inaugural addresses')\n",
    "plt.xlim(-0.004, 0.015)\n",
    "plt.ylim(-0.002, 0.011)\n",
    "# add %-age ticks\n",
    "ax.xaxis.set_major_formatter(ticker.FuncFormatter(lambda x, _: '{:.0%}'.format(x)))\n",
    "ax.yaxis.set_major_formatter(ticker.FuncFormatter(lambda y, _: '{:.0%}'.format(y)))\n",
    "plt.xticks(np.arange(0, plt.xlim()[1], 0.01))\n",
    "plt.yticks(np.arange(0, plt.ylim()[1], 0.01))\n",
    "plt.tight_layout()\n",
    "# plt.savefig('inaugural_scatter_labeled_v2.pdf')"
   ]
  }
 ],
 "metadata": {
  "kernelspec": {
   "display_name": "Python 2",
   "language": "python",
   "name": "python2"
  },
  "language_info": {
   "codemirror_mode": {
    "name": "ipython",
    "version": 2
   },
   "file_extension": ".py",
   "mimetype": "text/x-python",
   "name": "python",
   "nbconvert_exporter": "python",
   "pygments_lexer": "ipython2",
   "version": "2.7.13"
  }
 },
 "nbformat": 4,
 "nbformat_minor": 2
}
