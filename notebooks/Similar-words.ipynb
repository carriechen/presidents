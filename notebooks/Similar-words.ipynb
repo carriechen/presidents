{
 "cells": [
  {
   "cell_type": "code",
   "execution_count": 1,
   "metadata": {
    "collapsed": true
   },
   "outputs": [],
   "source": [
    "from __future__ import division, print_function, unicode_literals\n",
    "import re\n",
    "import itertools\n",
    "import pandas as pd\n",
    "import numpy as np\n",
    "from scipy import spatial\n",
    "%matplotlib inline\n",
    "import matplotlib.pyplot as plt\n",
    "import matplotlib.colors as mcolors\n",
    "import matplotlib.dates as mdates\n",
    "import matplotlib.ticker as ticker\n",
    "import matplotlib.gridspec as mgridspec\n",
    "plt.style.use('newsprint.mplstyle')"
   ]
  },
  {
   "cell_type": "code",
   "execution_count": 2,
   "metadata": {
    "collapsed": false
   },
   "outputs": [],
   "source": [
    "# local libraries\n",
    "import sys\n",
    "sys.path.append('../analysis')\n",
    "from readers import read_ldjson\n",
    "import text\n",
    "from speeches import Speech, SpeechCollection\n",
    "from spacy import attrs\n",
    "import plotting\n",
    "# reload(plotting); # for development"
   ]
  },
  {
   "cell_type": "code",
   "execution_count": 3,
   "metadata": {
    "collapsed": false
   },
   "outputs": [],
   "source": [
    "inaugurals = SpeechCollection(['../data/tapp/inaugurals.json'])\n",
    "speeches = inaugurals.speeches"
   ]
  },
  {
   "cell_type": "code",
   "execution_count": 4,
   "metadata": {
    "collapsed": true
   },
   "outputs": [],
   "source": [
    "# def speech_label(speech):\n",
    "#     return '{}: {}'.format(speech.author, speech.metadata.get('title', 'N/A'))\n",
    "def custom_titles_func_creator(speeches):\n",
    "    custom_titles = list(plotting.iter_inaugural_titles(speeches))\n",
    "    return lambda speech: custom_titles[speeches.index(speech)]\n",
    "speech_label = custom_titles_func_creator(speeches)"
   ]
  },
  {
   "cell_type": "code",
   "execution_count": 5,
   "metadata": {
    "collapsed": false
   },
   "outputs": [],
   "source": [
    "def spacy_similarity(speech1, speech2):\n",
    "    return speech1.document.similarity(speech2.document)"
   ]
  },
  {
   "cell_type": "code",
   "execution_count": 37,
   "metadata": {
    "collapsed": false
   },
   "outputs": [],
   "source": [
    "shared_vocab = list({key for speech in speeches for key in speech.lemma_counts.keys()})"
   ]
  },
  {
   "cell_type": "code",
   "execution_count": 38,
   "metadata": {
    "collapsed": false,
    "scrolled": true
   },
   "outputs": [
    {
     "name": "stdout",
     "output_type": "stream",
     "text": [
      "Speeches -- total vocabulary size: 6794\n"
     ]
    }
   ],
   "source": [
    "print('Speeches -- total vocabulary size:', len(shared_vocab))"
   ]
  },
  {
   "cell_type": "code",
   "execution_count": 40,
   "metadata": {
    "collapsed": true
   },
   "outputs": [],
   "source": [
    "def cosine_similarity(speech1, speech2):\n",
    "    # this isn't terribly smart/efficient :(\n",
    "    xs1 = [speech1.lemma_counts.get(k, 0) for k in shared_vocab]\n",
    "    xs2 = [speech2.lemma_counts.get(k, 0) for k in shared_vocab]\n",
    "    dist = spatial.distance.cosine(xs1, xs2)\n",
    "    return 1 - dist"
   ]
  },
  {
   "cell_type": "code",
   "execution_count": null,
   "metadata": {
    "collapsed": false
   },
   "outputs": [],
   "source": [
    "df_pairwise = plotting.create_pairwise_df(speeches, cosine_similarity, speech_label)"
   ]
  },
  {
   "cell_type": "code",
   "execution_count": null,
   "metadata": {
    "collapsed": false
   },
   "outputs": [],
   "source": [
    "# zero out the top right triangle\n",
    "df_tril = df_pairwise.where(np.tril(df_pairwise) > 0)"
   ]
  },
  {
   "cell_type": "code",
   "execution_count": null,
   "metadata": {
    "collapsed": false
   },
   "outputs": [],
   "source": [
    "plt.figure(figsize=(8.5, 8.5))\n",
    "ax = plotting.plot_pairwise_df(df_tril, plt)\n",
    "# flip y-axis\n",
    "ax.invert_yaxis()\n",
    "# flip x-ticks/labels to top\n",
    "# ax.xaxis.set_ticks_position('top')\n",
    "# ax.xaxis.set_label_position('top')\n",
    "ax.xaxis.label.set_visible(False)\n",
    "ax.yaxis.label.set_visible(False)\n",
    "plt.title('Similarity between inaugural addresses')\n",
    "plt.tight_layout()\n",
    "# plt.savefig('Similar-words-inaugurals_with_cosine.pdf')"
   ]
  },
  {
   "cell_type": "code",
   "execution_count": null,
   "metadata": {
    "collapsed": false
   },
   "outputs": [],
   "source": [
    "\n",
    "\n",
    "\n",
    "\n",
    "\n",
    "\n",
    "\n",
    "\n",
    "\n",
    "\n",
    "\n",
    "\n",
    "\n",
    "\n",
    "\n",
    "\n",
    "\n",
    "\n",
    "\n",
    "\n"
   ]
  },
  {
   "cell_type": "code",
   "execution_count": null,
   "metadata": {
    "collapsed": true
   },
   "outputs": [],
   "source": [
    "\n",
    "\n",
    "\n",
    "\n",
    "\n",
    "\n",
    "\n",
    "\n",
    "\n",
    "\n",
    "\n",
    "\n",
    "\n",
    "\n",
    "\n",
    "\n",
    "\n",
    "\n",
    "\n",
    "\n",
    "\n",
    "\n",
    "\n",
    "\n",
    "\n"
   ]
  }
 ],
 "metadata": {
  "kernelspec": {
   "display_name": "Python 2",
   "language": "python",
   "name": "python2"
  },
  "language_info": {
   "codemirror_mode": {
    "name": "ipython",
    "version": 2
   },
   "file_extension": ".py",
   "mimetype": "text/x-python",
   "name": "python",
   "nbconvert_exporter": "python",
   "pygments_lexer": "ipython2",
   "version": "2.7.13"
  }
 },
 "nbformat": 4,
 "nbformat_minor": 2
}
